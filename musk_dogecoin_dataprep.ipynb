{
 "cells": [
  {
   "cell_type": "code",
   "execution_count": 1,
   "id": "083c69e4",
   "metadata": {},
   "outputs": [],
   "source": [
    "import numpy as np\n",
    "import pandas as pd\n",
    "import pprint as pp\n",
    "import datetime as dt\n",
    "import nltk\n",
    "from nltk.tokenize import word_tokenize\n",
    "from nltk.sentiment import SentimentIntensityAnalyzer\n",
    "from nltk.corpus import stopwords\n",
    "from nltk.tokenize import RegexpTokenizer"
   ]
  },
  {
   "cell_type": "code",
   "execution_count": 2,
   "id": "357ffe8e",
   "metadata": {},
   "outputs": [
    {
     "name": "stderr",
     "output_type": "stream",
     "text": [
      "[nltk_data] Downloading package vader_lexicon to\n",
      "[nltk_data]     /Users/gilmar/nltk_data...\n",
      "[nltk_data]   Package vader_lexicon is already up-to-date!\n",
      "[nltk_data] Downloading package punkt to /Users/gilmar/nltk_data...\n",
      "[nltk_data]   Package punkt is already up-to-date!\n",
      "[nltk_data] Downloading package stopwords to\n",
      "[nltk_data]     /Users/gilmar/nltk_data...\n",
      "[nltk_data]   Package stopwords is already up-to-date!\n"
     ]
    },
    {
     "data": {
      "text/plain": [
       "True"
      ]
     },
     "execution_count": 2,
     "metadata": {},
     "output_type": "execute_result"
    }
   ],
   "source": [
    "pd.set_option('display.max_colwidth', None)\n",
    "\n",
    "nltk.download('vader_lexicon')\n",
    "nltk.download('punkt')\n",
    "nltk.download('stopwords')"
   ]
  },
  {
   "cell_type": "markdown",
   "id": "de82d6aa",
   "metadata": {},
   "source": [
    "# Load Datasets"
   ]
  },
  {
   "cell_type": "markdown",
   "id": "b5fabf3a",
   "metadata": {},
   "source": [
    "Data Sources:\n",
    "- [Elon Musk Tweets](https://www.kaggle.com/datasets/aryansingh0909/elon-musk-tweets-updated-daily/)\n",
    "- [Dogecoin Historical Data](https://www.kaggle.com/datasets/dhruvildave/dogecoin-historical-data)\n",
    "- [Bitcoin Price Dataset (2017-2023)](https://www.kaggle.com/datasets/jkraak/bitcoin-price-dataset)"
   ]
  },
  {
   "cell_type": "code",
   "execution_count": 3,
   "id": "5e2e1677",
   "metadata": {},
   "outputs": [],
   "source": [
    "def to_snake_case(value):\n",
    "    return \"_\".join(value.lower().split())"
   ]
  },
  {
   "cell_type": "code",
   "execution_count": 4,
   "id": "6394b72a",
   "metadata": {},
   "outputs": [],
   "source": [
    "def inspect_df(df, txt='Dataframe Information', date_col='date', col_prefix=None, sep_size=80):\n",
    "    print('=' * sep_size)\n",
    "    print(txt)\n",
    "    print('=' * sep_size)\n",
    "    date_range_counts_label = 'Dates Range and Row Count'\n",
    "    print(date_range_counts_label)\n",
    "    print('-' * len(date_range_counts_label))\n",
    "    date_col = col_prefix + date_col if col_prefix else date_col\n",
    "    pp.pprint(df[date_col].agg(['min','max','count']))\n",
    "    print('-' * sep_size)\n",
    "    pp.pprint(df.info())"
   ]
  },
  {
   "cell_type": "code",
   "execution_count": 5,
   "id": "029a238f",
   "metadata": {},
   "outputs": [],
   "source": [
    "tweets_df = pd.read_csv('data/elonmusk.csv')\n",
    "dogecoin_df = pd.read_csv('data/DOGE-USD.csv')\n",
    "bitcoin_df = pd.read_csv('data/bitcoin_2017_to_2023.csv')"
   ]
  },
  {
   "cell_type": "markdown",
   "id": "cac690f6",
   "metadata": {},
   "source": [
    "Clean and prefix columns names"
   ]
  },
  {
   "cell_type": "code",
   "execution_count": 6,
   "id": "077e0348",
   "metadata": {},
   "outputs": [],
   "source": [
    "tweets_df.columns = [to_snake_case(c) for c in tweets_df.columns]\n",
    "dogecoin_df.columns = [('dogecoin_' + to_snake_case(c)) for c in dogecoin_df.columns]\n",
    "bitcoin_df.columns = [('bitcoin_' + to_snake_case(c)) for c in bitcoin_df.columns]"
   ]
  },
  {
   "cell_type": "code",
   "execution_count": 7,
   "id": "2953baea",
   "metadata": {},
   "outputs": [
    {
     "name": "stdout",
     "output_type": "stream",
     "text": [
      "================================================================================\n",
      "Elon Musk Tweets - Original Dataset\n",
      "================================================================================\n",
      "Dates Range and Row Count\n",
      "-------------------------\n",
      "min      2010-06-04 18:31:57+00:00\n",
      "max      2023-06-29 16:20:19+00:00\n",
      "count                        24450\n",
      "Name: datetime, dtype: object\n",
      "--------------------------------------------------------------------------------\n",
      "<class 'pandas.core.frame.DataFrame'>\n",
      "RangeIndex: 24450 entries, 0 to 24449\n",
      "Data columns (total 4 columns):\n",
      " #   Column    Non-Null Count  Dtype \n",
      "---  ------    --------------  ----- \n",
      " 0   datetime  24450 non-null  object\n",
      " 1   tweet_id  24450 non-null  int64 \n",
      " 2   text      24450 non-null  object\n",
      " 3   username  24450 non-null  object\n",
      "dtypes: int64(1), object(3)\n",
      "memory usage: 764.2+ KB\n",
      "None\n",
      "================================================================================\n",
      "Dogecoin - Original Dataset\n",
      "================================================================================\n",
      "Dates Range and Row Count\n",
      "-------------------------\n",
      "min      2017-11-09\n",
      "max      2023-10-12\n",
      "count          2164\n",
      "Name: dogecoin_date, dtype: object\n",
      "--------------------------------------------------------------------------------\n",
      "<class 'pandas.core.frame.DataFrame'>\n",
      "RangeIndex: 2164 entries, 0 to 2163\n",
      "Data columns (total 7 columns):\n",
      " #   Column              Non-Null Count  Dtype  \n",
      "---  ------              --------------  -----  \n",
      " 0   dogecoin_date       2164 non-null   object \n",
      " 1   dogecoin_open       2164 non-null   float64\n",
      " 2   dogecoin_high       2164 non-null   float64\n",
      " 3   dogecoin_low        2164 non-null   float64\n",
      " 4   dogecoin_close      2164 non-null   float64\n",
      " 5   dogecoin_adj_close  2164 non-null   float64\n",
      " 6   dogecoin_volume     2164 non-null   int64  \n",
      "dtypes: float64(5), int64(1), object(1)\n",
      "memory usage: 118.5+ KB\n",
      "None\n",
      "================================================================================\n",
      "Bitcoin - Original Dataset\n",
      "================================================================================\n",
      "Dates Range and Row Count\n",
      "-------------------------\n",
      "min      2017-08-17 04:00:00\n",
      "max      2023-08-01 13:19:00\n",
      "count                3126000\n",
      "Name: bitcoin_timestamp, dtype: object\n",
      "--------------------------------------------------------------------------------\n",
      "<class 'pandas.core.frame.DataFrame'>\n",
      "RangeIndex: 3126000 entries, 0 to 3125999\n",
      "Data columns (total 10 columns):\n",
      " #   Column                                Dtype  \n",
      "---  ------                                -----  \n",
      " 0   bitcoin_timestamp                     object \n",
      " 1   bitcoin_open                          float64\n",
      " 2   bitcoin_high                          float64\n",
      " 3   bitcoin_low                           float64\n",
      " 4   bitcoin_close                         float64\n",
      " 5   bitcoin_volume                        float64\n",
      " 6   bitcoin_quote_asset_volume            float64\n",
      " 7   bitcoin_number_of_trades              int64  \n",
      " 8   bitcoin_taker_buy_base_asset_volume   float64\n",
      " 9   bitcoin_taker_buy_quote_asset_volume  float64\n",
      "dtypes: float64(8), int64(1), object(1)\n",
      "memory usage: 238.5+ MB\n",
      "None\n"
     ]
    }
   ],
   "source": [
    "inspect_df(tweets_df, txt='Elon Musk Tweets - Original Dataset', date_col='datetime')\n",
    "inspect_df(dogecoin_df, txt='Dogecoin - Original Dataset', col_prefix='dogecoin_')\n",
    "inspect_df(bitcoin_df, txt='Bitcoin - Original Dataset', date_col='bitcoin_timestamp')"
   ]
  },
  {
   "cell_type": "markdown",
   "id": "985451f7",
   "metadata": {},
   "source": [
    "## Normalise Dates"
   ]
  },
  {
   "cell_type": "markdown",
   "id": "f0d4353d",
   "metadata": {},
   "source": [
    "Convert all dates to datetime64[ns, UTC]"
   ]
  },
  {
   "cell_type": "code",
   "execution_count": 8,
   "id": "8fdd12d6",
   "metadata": {},
   "outputs": [],
   "source": [
    "tweets_df['date'] = pd.DatetimeIndex(pd.to_datetime(tweets_df['datetime'])).normalize()\n",
    "dogecoin_df['dogecoin_date'] = pd.to_datetime(dogecoin_df['dogecoin_date'], utc=True)\n",
    "bitcoin_df['bitcoin_date'] = pd.DatetimeIndex(pd.to_datetime(bitcoin_df['bitcoin_timestamp'], utc=True)).normalize()"
   ]
  },
  {
   "cell_type": "markdown",
   "id": "11d762c2",
   "metadata": {},
   "source": [
    "Trim datasets to have the same date range, ignoring time"
   ]
  },
  {
   "cell_type": "code",
   "execution_count": 9,
   "id": "1c8e0a58",
   "metadata": {},
   "outputs": [],
   "source": [
    "tweets_df = tweets_df[tweets_df.date >= dogecoin_df.dogecoin_date.min()]\n",
    "dogecoin_df = dogecoin_df[dogecoin_df.dogecoin_date <= tweets_df.date.max()]\n",
    "bitcoin_df = bitcoin_df[(bitcoin_df.bitcoin_date  >= dogecoin_df.dogecoin_date.min()) \\\n",
    "                          & (bitcoin_df.bitcoin_date <= tweets_df.date.max())]"
   ]
  },
  {
   "cell_type": "code",
   "execution_count": 10,
   "id": "de99436b",
   "metadata": {},
   "outputs": [
    {
     "name": "stdout",
     "output_type": "stream",
     "text": [
      "================================================================================\n",
      "Elon Musk Tweets\n",
      "================================================================================\n",
      "Dates Range and Row Count\n",
      "-------------------------\n",
      "min      2017-11-09 00:00:00+00:00\n",
      "max      2023-06-29 00:00:00+00:00\n",
      "count                        21525\n",
      "Name: date, dtype: object\n",
      "--------------------------------------------------------------------------------\n",
      "<class 'pandas.core.frame.DataFrame'>\n",
      "Int64Index: 21525 entries, 0 to 21524\n",
      "Data columns (total 5 columns):\n",
      " #   Column    Non-Null Count  Dtype              \n",
      "---  ------    --------------  -----              \n",
      " 0   datetime  21525 non-null  object             \n",
      " 1   tweet_id  21525 non-null  int64              \n",
      " 2   text      21525 non-null  object             \n",
      " 3   username  21525 non-null  object             \n",
      " 4   date      21525 non-null  datetime64[ns, UTC]\n",
      "dtypes: datetime64[ns, UTC](1), int64(1), object(3)\n",
      "memory usage: 1009.0+ KB\n",
      "None\n",
      "================================================================================\n",
      "Dogecoin Data\n",
      "================================================================================\n",
      "Dates Range and Row Count\n",
      "-------------------------\n",
      "min      2017-11-09 00:00:00+00:00\n",
      "max      2023-06-29 00:00:00+00:00\n",
      "count                         2059\n",
      "Name: dogecoin_date, dtype: object\n",
      "--------------------------------------------------------------------------------\n",
      "<class 'pandas.core.frame.DataFrame'>\n",
      "Int64Index: 2059 entries, 0 to 2058\n",
      "Data columns (total 7 columns):\n",
      " #   Column              Non-Null Count  Dtype              \n",
      "---  ------              --------------  -----              \n",
      " 0   dogecoin_date       2059 non-null   datetime64[ns, UTC]\n",
      " 1   dogecoin_open       2059 non-null   float64            \n",
      " 2   dogecoin_high       2059 non-null   float64            \n",
      " 3   dogecoin_low        2059 non-null   float64            \n",
      " 4   dogecoin_close      2059 non-null   float64            \n",
      " 5   dogecoin_adj_close  2059 non-null   float64            \n",
      " 6   dogecoin_volume     2059 non-null   int64              \n",
      "dtypes: datetime64[ns, UTC](1), float64(5), int64(1)\n",
      "memory usage: 128.7 KB\n",
      "None\n",
      "================================================================================\n",
      "Bitcoin Data\n",
      "================================================================================\n",
      "Dates Range and Row Count\n",
      "-------------------------\n",
      "min      2017-11-09 00:00:00+00:00\n",
      "max      2023-06-29 00:00:00+00:00\n",
      "count                      2958819\n",
      "Name: bitcoin_date, dtype: object\n",
      "--------------------------------------------------------------------------------\n",
      "<class 'pandas.core.frame.DataFrame'>\n",
      "Int64Index: 2958819 entries, 46880 to 3005698\n",
      "Data columns (total 11 columns):\n",
      " #   Column                                Dtype              \n",
      "---  ------                                -----              \n",
      " 0   bitcoin_timestamp                     object             \n",
      " 1   bitcoin_open                          float64            \n",
      " 2   bitcoin_high                          float64            \n",
      " 3   bitcoin_low                           float64            \n",
      " 4   bitcoin_close                         float64            \n",
      " 5   bitcoin_volume                        float64            \n",
      " 6   bitcoin_quote_asset_volume            float64            \n",
      " 7   bitcoin_number_of_trades              int64              \n",
      " 8   bitcoin_taker_buy_base_asset_volume   float64            \n",
      " 9   bitcoin_taker_buy_quote_asset_volume  float64            \n",
      " 10  bitcoin_date                          datetime64[ns, UTC]\n",
      "dtypes: datetime64[ns, UTC](1), float64(8), int64(1), object(1)\n",
      "memory usage: 270.9+ MB\n",
      "None\n"
     ]
    }
   ],
   "source": [
    "inspect_df(tweets_df, txt='Elon Musk Tweets')\n",
    "inspect_df(dogecoin_df, txt='Dogecoin Data', col_prefix='dogecoin_')\n",
    "inspect_df(bitcoin_df, txt='Bitcoin Data', col_prefix='bitcoin_')"
   ]
  },
  {
   "cell_type": "markdown",
   "id": "75c494f0",
   "metadata": {},
   "source": [
    "# Process Tweets"
   ]
  },
  {
   "cell_type": "code",
   "execution_count": 11,
   "id": "a41af20b",
   "metadata": {},
   "outputs": [],
   "source": [
    "stopword = stopwords.words('english')\n",
    "def tokenise(text):\n",
    "    tokenizer = RegexpTokenizer(r'\\w+')\n",
    "    word_tokens = tokenizer.tokenize(text.lower())\n",
    "    tokens = [word for word in word_tokens if word not in stopword]\n",
    "    return tokens"
   ]
  },
  {
   "cell_type": "code",
   "execution_count": 12,
   "id": "96e39827",
   "metadata": {},
   "outputs": [],
   "source": [
    "dogecoin_keywords = ['dogecoin', 'dogecoins', 'doge']\n",
    "cryptocoin_keywords = ['crypto', 'cryptocoins'\\\n",
    "                       , 'cryptocurrency', 'cryptocurrencies'\\\n",
    "                       , 'blockchain', 'blockchains'\\\n",
    "                       , 'bitcoin', 'bitcoins'\\\n",
    "                       , 'nft', 'nfts']\n",
    "def mention(text, keywords):\n",
    "    tokens = tokenise(text)\n",
    "    mentions = [token for token in tokens if token in keywords]\n",
    "    return 1 if mentions else 0\n",
    "\n",
    "def mention_dogecoin(text):\n",
    "    return mention(text, dogecoin_keywords)\n",
    "\n",
    "def mention_crypto(text):\n",
    "    return mention(text, dogecoin_keywords + cryptocoin_keywords)"
   ]
  },
  {
   "cell_type": "code",
   "execution_count": 13,
   "id": "c3291e9b",
   "metadata": {},
   "outputs": [],
   "source": [
    "def get_polarity_score(text):\n",
    "    sia = SentimentIntensityAnalyzer()\n",
    "    polarity_scores = sia.polarity_scores(text)\n",
    "    return polarity_scores['compound']"
   ]
  },
  {
   "cell_type": "code",
   "execution_count": 14,
   "id": "977df9c7",
   "metadata": {},
   "outputs": [],
   "source": [
    "def get_dogecoin_mention_polarity_score(text):\n",
    "    score = 0.0\n",
    "    if mention_dogecoin(text):\n",
    "        score = get_polarity_score(text)\n",
    "        #avoid mentions with 0.0 score\n",
    "        if (score == 0.0):\n",
    "            score = 0.01\n",
    "    return score"
   ]
  },
  {
   "cell_type": "code",
   "execution_count": 15,
   "id": "f3ca75d1",
   "metadata": {},
   "outputs": [],
   "source": [
    "tweets_df['mention_dogecoin'] = tweets_df.text.apply(mention_dogecoin)\n",
    "tweets_df['mention_crypto'] = tweets_df.text.apply(mention_crypto)\n",
    "tweets_df['dogecoin_mention_polarity_score'] = tweets_df.text.apply(get_dogecoin_mention_polarity_score)"
   ]
  },
  {
   "cell_type": "code",
   "execution_count": 16,
   "id": "62e7e2c1",
   "metadata": {},
   "outputs": [
    {
     "name": "stdout",
     "output_type": "stream",
     "text": [
      "Elon tweets mentioning Dogecoin: 84\n"
     ]
    }
   ],
   "source": [
    "print('Elon tweets mentioning Dogecoin: ' + str(len(tweets_df[tweets_df.mention_dogecoin == 1])))"
   ]
  },
  {
   "cell_type": "markdown",
   "id": "8b6c6da7",
   "metadata": {},
   "source": [
    "## Daily Tweets"
   ]
  },
  {
   "cell_type": "markdown",
   "id": "2759def3",
   "metadata": {},
   "source": [
    "Sum mentions and polarity score by date"
   ]
  },
  {
   "cell_type": "code",
   "execution_count": 17,
   "id": "1067bc40",
   "metadata": {},
   "outputs": [],
   "source": [
    "daily_tweets_df = tweets_df.groupby(['date'])\\\n",
    "    .agg({'mention_dogecoin':'sum'\\\n",
    "          , 'mention_crypto' : 'sum'\\\n",
    "          , 'dogecoin_mention_polarity_score':'sum'})\\\n",
    "    .reset_index()\n",
    "daily_tweets_df = daily_tweets_df.rename(columns=\\\n",
    "                                         {'mention_dogecoin': 'dogecoin_mentions'\\\n",
    "                                         , 'mention_crypto': 'crypto_mentions'})"
   ]
  },
  {
   "cell_type": "markdown",
   "id": "c7b45440",
   "metadata": {},
   "source": [
    "Assert no mention has polarity score zero"
   ]
  },
  {
   "cell_type": "code",
   "execution_count": 18,
   "id": "0046672a",
   "metadata": {},
   "outputs": [],
   "source": [
    "assert(len(daily_tweets_df[daily_tweets_df.dogecoin_mentions > 0]) == \\\n",
    "len(daily_tweets_df[(daily_tweets_df.dogecoin_mentions > 0) & (daily_tweets_df.dogecoin_mention_polarity_score != 0)]))"
   ]
  },
  {
   "cell_type": "code",
   "execution_count": 19,
   "id": "20891c10",
   "metadata": {
    "scrolled": false
   },
   "outputs": [
    {
     "name": "stdout",
     "output_type": "stream",
     "text": [
      "================================================================================\n",
      "Daily Tweets\n",
      "================================================================================\n",
      "Dates Range and Row Count\n",
      "-------------------------\n",
      "min      2017-11-09 00:00:00+00:00\n",
      "max      2023-06-29 00:00:00+00:00\n",
      "count                         1874\n",
      "Name: date, dtype: object\n",
      "--------------------------------------------------------------------------------\n",
      "<class 'pandas.core.frame.DataFrame'>\n",
      "RangeIndex: 1874 entries, 0 to 1873\n",
      "Data columns (total 4 columns):\n",
      " #   Column                           Non-Null Count  Dtype              \n",
      "---  ------                           --------------  -----              \n",
      " 0   date                             1874 non-null   datetime64[ns, UTC]\n",
      " 1   dogecoin_mentions                1874 non-null   int64              \n",
      " 2   crypto_mentions                  1874 non-null   int64              \n",
      " 3   dogecoin_mention_polarity_score  1874 non-null   float64            \n",
      "dtypes: datetime64[ns, UTC](1), float64(1), int64(2)\n",
      "memory usage: 58.7 KB\n",
      "None\n"
     ]
    }
   ],
   "source": [
    "inspect_df(daily_tweets_df, txt='Daily Tweets')"
   ]
  },
  {
   "cell_type": "markdown",
   "id": "83481a50",
   "metadata": {},
   "source": [
    "# Prepare Bitcoin Data"
   ]
  },
  {
   "cell_type": "code",
   "execution_count": 20,
   "id": "160eded5",
   "metadata": {},
   "outputs": [],
   "source": [
    "bitcoin_df = bitcoin_df.sort_values('bitcoin_timestamp')"
   ]
  },
  {
   "cell_type": "markdown",
   "id": "854bb072",
   "metadata": {},
   "source": [
    "## Daily Bitcoin"
   ]
  },
  {
   "cell_type": "markdown",
   "id": "8ae414b8",
   "metadata": {},
   "source": [
    "### Get last close value for each day"
   ]
  },
  {
   "cell_type": "code",
   "execution_count": 21,
   "id": "cefc34b4",
   "metadata": {},
   "outputs": [],
   "source": [
    "daily_bitcoin_close_df = bitcoin_df\\\n",
    "            .groupby('bitcoin_date')\\\n",
    "            .tail(1)\\\n",
    "            [['bitcoin_date', 'bitcoin_close']]"
   ]
  },
  {
   "cell_type": "code",
   "execution_count": 22,
   "id": "bea1c28f",
   "metadata": {},
   "outputs": [
    {
     "name": "stdout",
     "output_type": "stream",
     "text": [
      "================================================================================\n",
      "Daily last bitcoin close\n",
      "================================================================================\n",
      "Dates Range and Row Count\n",
      "-------------------------\n",
      "min      2017-11-09 00:00:00+00:00\n",
      "max      2023-06-29 00:00:00+00:00\n",
      "count                         2059\n",
      "Name: bitcoin_date, dtype: object\n",
      "--------------------------------------------------------------------------------\n",
      "<class 'pandas.core.frame.DataFrame'>\n",
      "Int64Index: 2059 entries, 3004259 to 46880\n",
      "Data columns (total 2 columns):\n",
      " #   Column         Non-Null Count  Dtype              \n",
      "---  ------         --------------  -----              \n",
      " 0   bitcoin_date   2059 non-null   datetime64[ns, UTC]\n",
      " 1   bitcoin_close  2059 non-null   float64            \n",
      "dtypes: datetime64[ns, UTC](1), float64(1)\n",
      "memory usage: 48.3 KB\n",
      "None\n"
     ]
    }
   ],
   "source": [
    "inspect_df(daily_bitcoin_close_df, 'Daily last bitcoin close', col_prefix=\"bitcoin_\")"
   ]
  },
  {
   "cell_type": "markdown",
   "id": "742f3061",
   "metadata": {},
   "source": [
    "### Sum bitcoin volume to get total for each day"
   ]
  },
  {
   "cell_type": "code",
   "execution_count": 23,
   "id": "d036c78a",
   "metadata": {},
   "outputs": [],
   "source": [
    "daily_bitcoin_volume_df = bitcoin_df[['bitcoin_date','bitcoin_volume']]\\\n",
    "            .groupby('bitcoin_date')\\\n",
    "            .sum()\\\n",
    "            .reset_index()"
   ]
  },
  {
   "cell_type": "code",
   "execution_count": 24,
   "id": "c3419433",
   "metadata": {},
   "outputs": [
    {
     "name": "stdout",
     "output_type": "stream",
     "text": [
      "================================================================================\n",
      "Daily bitcoin total volume\n",
      "================================================================================\n",
      "Dates Range and Row Count\n",
      "-------------------------\n",
      "min      2017-11-09 00:00:00+00:00\n",
      "max      2023-06-29 00:00:00+00:00\n",
      "count                         2059\n",
      "Name: bitcoin_date, dtype: object\n",
      "--------------------------------------------------------------------------------\n",
      "<class 'pandas.core.frame.DataFrame'>\n",
      "RangeIndex: 2059 entries, 0 to 2058\n",
      "Data columns (total 2 columns):\n",
      " #   Column          Non-Null Count  Dtype              \n",
      "---  ------          --------------  -----              \n",
      " 0   bitcoin_date    2059 non-null   datetime64[ns, UTC]\n",
      " 1   bitcoin_volume  2059 non-null   float64            \n",
      "dtypes: datetime64[ns, UTC](1), float64(1)\n",
      "memory usage: 32.3 KB\n",
      "None\n"
     ]
    }
   ],
   "source": [
    "inspect_df(daily_bitcoin_volume_df, 'Daily bitcoin total volume', col_prefix=\"bitcoin_\")"
   ]
  },
  {
   "cell_type": "code",
   "execution_count": 25,
   "id": "f43cf15e",
   "metadata": {},
   "outputs": [],
   "source": [
    "daily_bitcoin_df = daily_bitcoin_close_df.merge(daily_bitcoin_volume_df)"
   ]
  },
  {
   "cell_type": "code",
   "execution_count": 26,
   "id": "0cd0bfee",
   "metadata": {},
   "outputs": [
    {
     "name": "stdout",
     "output_type": "stream",
     "text": [
      "================================================================================\n",
      "Daily bitcoin total volume\n",
      "================================================================================\n",
      "Dates Range and Row Count\n",
      "-------------------------\n",
      "min      2017-11-09 00:00:00+00:00\n",
      "max      2023-06-29 00:00:00+00:00\n",
      "count                         2059\n",
      "Name: bitcoin_date, dtype: object\n",
      "--------------------------------------------------------------------------------\n",
      "<class 'pandas.core.frame.DataFrame'>\n",
      "Int64Index: 2059 entries, 0 to 2058\n",
      "Data columns (total 3 columns):\n",
      " #   Column          Non-Null Count  Dtype              \n",
      "---  ------          --------------  -----              \n",
      " 0   bitcoin_date    2059 non-null   datetime64[ns, UTC]\n",
      " 1   bitcoin_close   2059 non-null   float64            \n",
      " 2   bitcoin_volume  2059 non-null   float64            \n",
      "dtypes: datetime64[ns, UTC](1), float64(2)\n",
      "memory usage: 64.3 KB\n",
      "None\n"
     ]
    }
   ],
   "source": [
    "inspect_df(daily_bitcoin_df, 'Daily bitcoin total volume', col_prefix=\"bitcoin_\")"
   ]
  },
  {
   "cell_type": "markdown",
   "id": "778028f9",
   "metadata": {},
   "source": [
    "# Prepare Final Dataset"
   ]
  },
  {
   "cell_type": "markdown",
   "id": "aaff158c",
   "metadata": {},
   "source": [
    "## Elon's Tweets + Dogecoin Data"
   ]
  },
  {
   "cell_type": "code",
   "execution_count": 27,
   "id": "ea70b60d",
   "metadata": {},
   "outputs": [],
   "source": [
    "daily_dogecoin_df = dogecoin_df[['dogecoin_date','dogecoin_close', 'dogecoin_volume']]\n",
    "tweets_doge_df = daily_dogecoin_df.set_index('dogecoin_date')\\\n",
    "    .join(daily_tweets_df.set_index('date'), on='dogecoin_date')\\\n",
    "    .reset_index()\n",
    "# no dogecoin mentions and polarity score for days elon didn't tweet\n",
    "tweets_doge_df = tweets_doge_df.fillna(0.0)\n",
    "tweets_doge_df['date'] = tweets_doge_df['dogecoin_date']\n",
    "tweets_doge_df = tweets_doge_df.drop('dogecoin_date',axis=1)"
   ]
  },
  {
   "cell_type": "markdown",
   "id": "ed19c95e",
   "metadata": {},
   "source": [
    "Check we have all days"
   ]
  },
  {
   "cell_type": "code",
   "execution_count": 28,
   "id": "5c0e933c",
   "metadata": {},
   "outputs": [],
   "source": [
    "init_day = tweets_df['date'].min()\n",
    "end_day = tweets_df['date'].max()\n",
    "time_delta = end_day - init_day\n",
    "assert(len(tweets_doge_df) == (time_delta.days + 1))"
   ]
  },
  {
   "cell_type": "code",
   "execution_count": 29,
   "id": "bc9a6520",
   "metadata": {},
   "outputs": [
    {
     "name": "stdout",
     "output_type": "stream",
     "text": [
      "================================================================================\n",
      "Daily Tweets + Dogecoin\n",
      "================================================================================\n",
      "Dates Range and Row Count\n",
      "-------------------------\n",
      "min      2017-11-09 00:00:00+00:00\n",
      "max      2023-06-29 00:00:00+00:00\n",
      "count                         2059\n",
      "Name: date, dtype: object\n",
      "--------------------------------------------------------------------------------\n",
      "<class 'pandas.core.frame.DataFrame'>\n",
      "RangeIndex: 2059 entries, 0 to 2058\n",
      "Data columns (total 6 columns):\n",
      " #   Column                           Non-Null Count  Dtype              \n",
      "---  ------                           --------------  -----              \n",
      " 0   dogecoin_close                   2059 non-null   float64            \n",
      " 1   dogecoin_volume                  2059 non-null   int64              \n",
      " 2   dogecoin_mentions                2059 non-null   float64            \n",
      " 3   crypto_mentions                  2059 non-null   float64            \n",
      " 4   dogecoin_mention_polarity_score  2059 non-null   float64            \n",
      " 5   date                             2059 non-null   datetime64[ns, UTC]\n",
      "dtypes: datetime64[ns, UTC](1), float64(4), int64(1)\n",
      "memory usage: 96.6 KB\n",
      "None\n"
     ]
    }
   ],
   "source": [
    "inspect_df(tweets_doge_df, txt='Daily Tweets + Dogecoin')"
   ]
  },
  {
   "cell_type": "markdown",
   "id": "15622e5e",
   "metadata": {},
   "source": [
    "## Elon's Tweets + Dogecoin + Bitcoin Data"
   ]
  },
  {
   "cell_type": "code",
   "execution_count": 30,
   "id": "d5f5ec6a",
   "metadata": {},
   "outputs": [],
   "source": [
    "tweets_doge_bitcoin_df = daily_bitcoin_df.merge(tweets_doge_df, left_on='bitcoin_date', right_on='date')\n",
    "tweets_doge_bitcoin_df = tweets_doge_bitcoin_df.drop('bitcoin_date', axis=1)\n",
    "tweets_doge_bitcoin_df['date'] = tweets_doge_bitcoin_df['date'].dt.date"
   ]
  },
  {
   "cell_type": "code",
   "execution_count": 31,
   "id": "55fe5c17",
   "metadata": {},
   "outputs": [],
   "source": [
    "## check we still have all days\n",
    "assert(len(tweets_doge_bitcoin_df) == (time_delta.days + 1))"
   ]
  },
  {
   "cell_type": "code",
   "execution_count": 32,
   "id": "b8ae944d",
   "metadata": {},
   "outputs": [
    {
     "name": "stdout",
     "output_type": "stream",
     "text": [
      "================================================================================\n",
      "Tweets + Dogecoin + Bitcoin\n",
      "================================================================================\n",
      "Dates Range and Row Count\n",
      "-------------------------\n",
      "min      2017-11-09\n",
      "max      2023-06-29\n",
      "count          2059\n",
      "Name: date, dtype: object\n",
      "--------------------------------------------------------------------------------\n",
      "<class 'pandas.core.frame.DataFrame'>\n",
      "Int64Index: 2059 entries, 0 to 2058\n",
      "Data columns (total 8 columns):\n",
      " #   Column                           Non-Null Count  Dtype  \n",
      "---  ------                           --------------  -----  \n",
      " 0   bitcoin_close                    2059 non-null   float64\n",
      " 1   bitcoin_volume                   2059 non-null   float64\n",
      " 2   dogecoin_close                   2059 non-null   float64\n",
      " 3   dogecoin_volume                  2059 non-null   int64  \n",
      " 4   dogecoin_mentions                2059 non-null   float64\n",
      " 5   crypto_mentions                  2059 non-null   float64\n",
      " 6   dogecoin_mention_polarity_score  2059 non-null   float64\n",
      " 7   date                             2059 non-null   object \n",
      "dtypes: float64(6), int64(1), object(1)\n",
      "memory usage: 144.8+ KB\n",
      "None\n"
     ]
    }
   ],
   "source": [
    "inspect_df(tweets_doge_bitcoin_df, 'Tweets + Dogecoin + Bitcoin')"
   ]
  },
  {
   "cell_type": "code",
   "execution_count": 33,
   "id": "37e3c77d",
   "metadata": {
    "scrolled": true
   },
   "outputs": [
    {
     "data": {
      "text/html": [
       "<div>\n",
       "<style scoped>\n",
       "    .dataframe tbody tr th:only-of-type {\n",
       "        vertical-align: middle;\n",
       "    }\n",
       "\n",
       "    .dataframe tbody tr th {\n",
       "        vertical-align: top;\n",
       "    }\n",
       "\n",
       "    .dataframe thead th {\n",
       "        text-align: right;\n",
       "    }\n",
       "</style>\n",
       "<table border=\"1\" class=\"dataframe\">\n",
       "  <thead>\n",
       "    <tr style=\"text-align: right;\">\n",
       "      <th></th>\n",
       "      <th>bitcoin_close</th>\n",
       "      <th>bitcoin_volume</th>\n",
       "      <th>dogecoin_close</th>\n",
       "      <th>dogecoin_volume</th>\n",
       "      <th>dogecoin_mentions</th>\n",
       "      <th>crypto_mentions</th>\n",
       "      <th>dogecoin_mention_polarity_score</th>\n",
       "      <th>date</th>\n",
       "    </tr>\n",
       "  </thead>\n",
       "  <tbody>\n",
       "    <tr>\n",
       "      <th>0</th>\n",
       "      <td>7079.99</td>\n",
       "      <td>1913.398308</td>\n",
       "      <td>0.001415</td>\n",
       "      <td>6259550</td>\n",
       "      <td>0.0</td>\n",
       "      <td>0.0</td>\n",
       "      <td>0.0</td>\n",
       "      <td>2017-11-09</td>\n",
       "    </tr>\n",
       "    <tr>\n",
       "      <th>1</th>\n",
       "      <td>6506.98</td>\n",
       "      <td>3254.704105</td>\n",
       "      <td>0.001163</td>\n",
       "      <td>4246520</td>\n",
       "      <td>0.0</td>\n",
       "      <td>0.0</td>\n",
       "      <td>0.0</td>\n",
       "      <td>2017-11-10</td>\n",
       "    </tr>\n",
       "    <tr>\n",
       "      <th>2</th>\n",
       "      <td>6245.05</td>\n",
       "      <td>2754.156861</td>\n",
       "      <td>0.001201</td>\n",
       "      <td>2231080</td>\n",
       "      <td>0.0</td>\n",
       "      <td>0.0</td>\n",
       "      <td>0.0</td>\n",
       "      <td>2017-11-11</td>\n",
       "    </tr>\n",
       "    <tr>\n",
       "      <th>3</th>\n",
       "      <td>5811.03</td>\n",
       "      <td>4968.483069</td>\n",
       "      <td>0.001038</td>\n",
       "      <td>3288960</td>\n",
       "      <td>0.0</td>\n",
       "      <td>0.0</td>\n",
       "      <td>0.0</td>\n",
       "      <td>2017-11-12</td>\n",
       "    </tr>\n",
       "    <tr>\n",
       "      <th>4</th>\n",
       "      <td>6465.99</td>\n",
       "      <td>2621.243039</td>\n",
       "      <td>0.001211</td>\n",
       "      <td>2481270</td>\n",
       "      <td>0.0</td>\n",
       "      <td>0.0</td>\n",
       "      <td>0.0</td>\n",
       "      <td>2017-11-13</td>\n",
       "    </tr>\n",
       "    <tr>\n",
       "      <th>...</th>\n",
       "      <td>...</td>\n",
       "      <td>...</td>\n",
       "      <td>...</td>\n",
       "      <td>...</td>\n",
       "      <td>...</td>\n",
       "      <td>...</td>\n",
       "      <td>...</td>\n",
       "      <td>...</td>\n",
       "    </tr>\n",
       "    <tr>\n",
       "      <th>2054</th>\n",
       "      <td>30462.66</td>\n",
       "      <td>30223.448010</td>\n",
       "      <td>0.066764</td>\n",
       "      <td>191028870</td>\n",
       "      <td>0.0</td>\n",
       "      <td>0.0</td>\n",
       "      <td>0.0</td>\n",
       "      <td>2023-06-25</td>\n",
       "    </tr>\n",
       "    <tr>\n",
       "      <th>2055</th>\n",
       "      <td>30267.99</td>\n",
       "      <td>45180.414890</td>\n",
       "      <td>0.064749</td>\n",
       "      <td>266917426</td>\n",
       "      <td>0.0</td>\n",
       "      <td>0.0</td>\n",
       "      <td>0.0</td>\n",
       "      <td>2023-06-26</td>\n",
       "    </tr>\n",
       "    <tr>\n",
       "      <th>2056</th>\n",
       "      <td>30692.44</td>\n",
       "      <td>42699.641570</td>\n",
       "      <td>0.065545</td>\n",
       "      <td>212409649</td>\n",
       "      <td>0.0</td>\n",
       "      <td>0.0</td>\n",
       "      <td>0.0</td>\n",
       "      <td>2023-06-27</td>\n",
       "    </tr>\n",
       "    <tr>\n",
       "      <th>2057</th>\n",
       "      <td>30077.41</td>\n",
       "      <td>40463.519370</td>\n",
       "      <td>0.062602</td>\n",
       "      <td>274764095</td>\n",
       "      <td>0.0</td>\n",
       "      <td>0.0</td>\n",
       "      <td>0.0</td>\n",
       "      <td>2023-06-28</td>\n",
       "    </tr>\n",
       "    <tr>\n",
       "      <th>2058</th>\n",
       "      <td>30447.31</td>\n",
       "      <td>36330.629030</td>\n",
       "      <td>0.063407</td>\n",
       "      <td>192396033</td>\n",
       "      <td>0.0</td>\n",
       "      <td>0.0</td>\n",
       "      <td>0.0</td>\n",
       "      <td>2023-06-29</td>\n",
       "    </tr>\n",
       "  </tbody>\n",
       "</table>\n",
       "<p>2059 rows × 8 columns</p>\n",
       "</div>"
      ],
      "text/plain": [
       "      bitcoin_close  bitcoin_volume  dogecoin_close  dogecoin_volume  \\\n",
       "0           7079.99     1913.398308        0.001415          6259550   \n",
       "1           6506.98     3254.704105        0.001163          4246520   \n",
       "2           6245.05     2754.156861        0.001201          2231080   \n",
       "3           5811.03     4968.483069        0.001038          3288960   \n",
       "4           6465.99     2621.243039        0.001211          2481270   \n",
       "...             ...             ...             ...              ...   \n",
       "2054       30462.66    30223.448010        0.066764        191028870   \n",
       "2055       30267.99    45180.414890        0.064749        266917426   \n",
       "2056       30692.44    42699.641570        0.065545        212409649   \n",
       "2057       30077.41    40463.519370        0.062602        274764095   \n",
       "2058       30447.31    36330.629030        0.063407        192396033   \n",
       "\n",
       "      dogecoin_mentions  crypto_mentions  dogecoin_mention_polarity_score  \\\n",
       "0                   0.0              0.0                              0.0   \n",
       "1                   0.0              0.0                              0.0   \n",
       "2                   0.0              0.0                              0.0   \n",
       "3                   0.0              0.0                              0.0   \n",
       "4                   0.0              0.0                              0.0   \n",
       "...                 ...              ...                              ...   \n",
       "2054                0.0              0.0                              0.0   \n",
       "2055                0.0              0.0                              0.0   \n",
       "2056                0.0              0.0                              0.0   \n",
       "2057                0.0              0.0                              0.0   \n",
       "2058                0.0              0.0                              0.0   \n",
       "\n",
       "            date  \n",
       "0     2017-11-09  \n",
       "1     2017-11-10  \n",
       "2     2017-11-11  \n",
       "3     2017-11-12  \n",
       "4     2017-11-13  \n",
       "...          ...  \n",
       "2054  2023-06-25  \n",
       "2055  2023-06-26  \n",
       "2056  2023-06-27  \n",
       "2057  2023-06-28  \n",
       "2058  2023-06-29  \n",
       "\n",
       "[2059 rows x 8 columns]"
      ]
     },
     "execution_count": 33,
     "metadata": {},
     "output_type": "execute_result"
    }
   ],
   "source": [
    "tweets_doge_bitcoin_df"
   ]
  },
  {
   "cell_type": "markdown",
   "id": "c1e84d7c",
   "metadata": {},
   "source": [
    "# Save Data as CSV"
   ]
  },
  {
   "cell_type": "code",
   "execution_count": 34,
   "id": "94834171",
   "metadata": {},
   "outputs": [],
   "source": [
    "tweets_doge_bitcoin_df.set_index('date').to_csv('data/tweets_doge_bitcoin.csv')"
   ]
  }
 ],
 "metadata": {
  "kernelspec": {
   "display_name": "Python 3 (ipykernel)",
   "language": "python",
   "name": "python3"
  },
  "language_info": {
   "codemirror_mode": {
    "name": "ipython",
    "version": 3
   },
   "file_extension": ".py",
   "mimetype": "text/x-python",
   "name": "python",
   "nbconvert_exporter": "python",
   "pygments_lexer": "ipython3",
   "version": "3.9.12"
  }
 },
 "nbformat": 4,
 "nbformat_minor": 5
}
